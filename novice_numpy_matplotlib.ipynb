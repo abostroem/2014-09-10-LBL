{
 "metadata": {
  "name": "",
  "signature": "sha256:aececc13fcc5bddaa275a5fa23bd22785957acb557f2f8aa5b292cdb979f22b4"
 },
 "nbformat": 3,
 "nbformat_minor": 0,
 "worksheets": [
  {
   "cells": [
    {
     "cell_type": "markdown",
     "metadata": {},
     "source": [
      "#Reading in Data from a Text File"
     ]
    },
    {
     "cell_type": "markdown",
     "metadata": {},
     "source": [
      "##Standard Library"
     ]
    },
    {
     "cell_type": "code",
     "collapsed": false,
     "input": [
      "import numpy as np"
     ],
     "language": "python",
     "metadata": {},
     "outputs": [],
     "prompt_number": 21
    },
    {
     "cell_type": "code",
     "collapsed": false,
     "input": [
      "def read_using_standard_library(filename):\n",
      "    with open(filename, 'r') as open_file: #Open file in read only mode\n",
      "        #Make a list where each element is a string containing one line in the file\n",
      "        all_lines = open_file.readlines()\n",
      "    #Initialize blank lists\n",
      "    date = []\n",
      "    storage_level = []\n",
      "    for iline in all_lines:\n",
      "        #ignore header\n",
      "        if iline[0] != '#':\n",
      "            #Split line on blank space (can supply an argument if you want something different (like comma))\n",
      "            split_line = iline.split()\n",
      "            #Append date and storage_level to appropriate lists\n",
      "            date.append(split_line[0])\n",
      "            storage_level.append(float(split_line[1])) #convert string to floating point before appending\n",
      "    #Convert lists to numpy arrays\n",
      "    date = np.array(date)\n",
      "    storage_level = np.array(storage_level)\n",
      "    return date, storage_level"
     ],
     "language": "python",
     "metadata": {},
     "outputs": [],
     "prompt_number": 22
    },
    {
     "cell_type": "code",
     "collapsed": false,
     "input": [
      "nicasio_2006_date, nicasio_2006_storage = read_using_standard_library('data/n6.txt')\n",
      "print nicasio_2006_date\n",
      "print nicasio_2006_storage"
     ],
     "language": "python",
     "metadata": {},
     "outputs": [
      {
       "output_type": "stream",
       "stream": "stdout",
       "text": [
        "['01/2006' '02/2006' '03/2006' '04/2006' '05/2006' '06/2006' '07/2006'\n",
        " '08/2006' '09/2006' '10/2006' '11/2006' '12/2006']\n",
        "[ 22430.  22430.  22430.  22430.  22395.  21995.  21445.  21292.  20869.\n",
        "  20698.  20809.  22430.]\n"
       ]
      }
     ],
     "prompt_number": 23
    },
    {
     "cell_type": "markdown",
     "metadata": {},
     "source": [
      "##Read using Numpy"
     ]
    },
    {
     "cell_type": "code",
     "collapsed": false,
     "input": [
      "nicasio_2006_date, nicasio_2006_storage = np.loadtxt('data/n6.txt', unpack = True,  \n",
      "                                                        dtype={'names': ['date', 'storage'], \n",
      "                                                               'formats': ['S7', 'f8']})\n"
     ],
     "language": "python",
     "metadata": {},
     "outputs": [],
     "prompt_number": 118
    },
    {
     "cell_type": "code",
     "collapsed": false,
     "input": [
      "print 'date = ', nicasio_2006_date\n",
      "print 'storage = ', nicasio_2006_storage"
     ],
     "language": "python",
     "metadata": {},
     "outputs": [
      {
       "output_type": "stream",
       "stream": "stdout",
       "text": [
        "date =  ['01/2006' '02/2006' '03/2006' '04/2006' '05/2006' '06/2006' '07/2006'\n",
        " '08/2006' '09/2006' '10/2006' '11/2006' '12/2006']\n",
        "storage =  [ 22430.  22430.  22430.  22430.  22395.  21995.  21445.  21292.  20869.\n",
        "  20698.  20809.  22430.]\n"
       ]
      }
     ],
     "prompt_number": 119
    },
    {
     "cell_type": "markdown",
     "metadata": {},
     "source": [
      "###Other Functions:\n",
      "\n",
      "There are other better ways to read files, but these are specific to the file format and some are field specific.\n",
      "\n",
      "I use <b><code>ascii</code></b> in the <b><code>astropy.io</code></b> package\n",
      "\n",
      "You will see <b><code>pandas</code></b> in the next section"
     ]
    },
    {
     "cell_type": "markdown",
     "metadata": {},
     "source": [
      "#Math in Python\n",
      "\n",
      "There are many different date types in python and basic arithmatic operations such as + and * operate differently on different ones. Here we will look at + and * on a list, numpy array, and numpy matrix."
     ]
    },
    {
     "cell_type": "markdown",
     "metadata": {},
     "source": [
      "##With a List"
     ]
    },
    {
     "cell_type": "code",
     "collapsed": false,
     "input": [
      "#Convert our array to a list\n",
      "nicasio_2006_storage_list = list(nicasio_2006_storage)"
     ],
     "language": "python",
     "metadata": {},
     "outputs": [],
     "prompt_number": 120
    },
    {
     "cell_type": "code",
     "collapsed": false,
     "input": [
      "type(nicasio_2006_storage_list)"
     ],
     "language": "python",
     "metadata": {},
     "outputs": [
      {
       "metadata": {},
       "output_type": "pyout",
       "prompt_number": 121,
       "text": [
        "list"
       ]
      }
     ],
     "prompt_number": 121
    },
    {
     "cell_type": "code",
     "collapsed": false,
     "input": [
      "print nicasio_2006_storage_list * 2\n",
      "#Multiplication repeats the array"
     ],
     "language": "python",
     "metadata": {},
     "outputs": [
      {
       "output_type": "stream",
       "stream": "stdout",
       "text": [
        "[22430.0, 22430.0, 22430.0, 22430.0, 22395.0, 21995.0, 21445.0, 21292.0, 20869.0, 20698.0, 20809.0, 22430.0, 22430.0, 22430.0, 22430.0, 22430.0, 22395.0, 21995.0, 21445.0, 21292.0, 20869.0, 20698.0, 20809.0, 22430.0]\n"
       ]
      }
     ],
     "prompt_number": 122
    },
    {
     "cell_type": "code",
     "collapsed": false,
     "input": [
      "print nicasio_2006_storage_list + 2"
     ],
     "language": "python",
     "metadata": {},
     "outputs": [
      {
       "ename": "TypeError",
       "evalue": "can only concatenate list (not \"int\") to list",
       "output_type": "pyerr",
       "traceback": [
        "\u001b[0;31m---------------------------------------------------------------------------\u001b[0m\n\u001b[0;31mTypeError\u001b[0m                                 Traceback (most recent call last)",
        "\u001b[0;32m<ipython-input-123-c23484856c05>\u001b[0m in \u001b[0;36m<module>\u001b[0;34m()\u001b[0m\n\u001b[0;32m----> 1\u001b[0;31m \u001b[0;32mprint\u001b[0m \u001b[0mnicasio_2006_storage_list\u001b[0m \u001b[0;34m+\u001b[0m \u001b[0;36m2\u001b[0m\u001b[0;34m\u001b[0m\u001b[0m\n\u001b[0m",
        "\u001b[0;31mTypeError\u001b[0m: can only concatenate list (not \"int\") to list"
       ]
      }
     ],
     "prompt_number": 123
    },
    {
     "cell_type": "markdown",
     "metadata": {},
     "source": [
      "####Ok, so you can't add an integer to a list (notice the very useful error message). What about adding list to a list?"
     ]
    },
    {
     "cell_type": "code",
     "collapsed": false,
     "input": [
      "print nicasio_2006_storage_list + [2]\n",
      "#Addition concatonates lists"
     ],
     "language": "python",
     "metadata": {},
     "outputs": [
      {
       "output_type": "stream",
       "stream": "stdout",
       "text": [
        "[22430.0, 22430.0, 22430.0, 22430.0, 22395.0, 21995.0, 21445.0, 21292.0, 20869.0, 20698.0, 20809.0, 22430.0, 2]\n"
       ]
      }
     ],
     "prompt_number": 124
    },
    {
     "cell_type": "markdown",
     "metadata": {},
     "source": [
      "####What if we wanted to multiply every element in nicasio_2006_storage by 2?"
     ]
    },
    {
     "cell_type": "code",
     "collapsed": false,
     "input": [
      "nicasio_2006_storage_double = []\n",
      "for storage_capacity in nicasio_2006_storage_list:\n",
      "    nicasio_2006_storage_double.append(storage_capacity*2)\n",
      "\n",
      "print nicasio_2006_storage_list\n",
      "print nicasio_2006_storage_double"
     ],
     "language": "python",
     "metadata": {},
     "outputs": [
      {
       "output_type": "stream",
       "stream": "stdout",
       "text": [
        "[22430.0, 22430.0, 22430.0, 22430.0, 22395.0, 21995.0, 21445.0, 21292.0, 20869.0, 20698.0, 20809.0, 22430.0]\n",
        "[44860.0, 44860.0, 44860.0, 44860.0, 44790.0, 43990.0, 42890.0, 42584.0, 41738.0, 41396.0, 41618.0, 44860.0]\n"
       ]
      }
     ],
     "prompt_number": 125
    },
    {
     "cell_type": "markdown",
     "metadata": {},
     "source": [
      "##With a Numpy Array\n",
      "\n",
      "Numpy calls largely to C libraries to perform tasks. For this reason its array math is very quick"
     ]
    },
    {
     "cell_type": "code",
     "collapsed": false,
     "input": [
      "nicasio_2006_storage_double = nicasio_2006_storage*2\n",
      "print nicasio_2006_storage_list\n",
      "print nicasio_2006_storage_double"
     ],
     "language": "python",
     "metadata": {},
     "outputs": []
    },
    {
     "cell_type": "markdown",
     "metadata": {},
     "source": [
      "Numpy arrays operate element-wise. Note this is NOT a matrix. \n",
      "\n",
      "Numpy also tries to guess what you want to do. For instance, if you want have a 2D array and you want to multiply every column by a number:"
     ]
    },
    {
     "cell_type": "code",
     "collapsed": false,
     "input": [
      "array_of_ones = np.ones((5, 5))\n",
      "number_array = np.arange(5).T\n",
      "print 'array_of_ones = ', array_of_ones\n",
      "print 'number_array = ', number_array\n",
      "print 'product = ', array_of_ones*number_array"
     ],
     "language": "python",
     "metadata": {},
     "outputs": [
      {
       "output_type": "stream",
       "stream": "stdout",
       "text": [
        "array_of_ones =  [[ 1.  1.  1.  1.  1.]\n",
        " [ 1.  1.  1.  1.  1.]\n",
        " [ 1.  1.  1.  1.  1.]\n",
        " [ 1.  1.  1.  1.  1.]\n",
        " [ 1.  1.  1.  1.  1.]]\n",
        "number_array =  [0 1 2 3 4]\n",
        "product =  [[ 0.  1.  2.  3.  4.]\n",
        " [ 0.  1.  2.  3.  4.]\n",
        " [ 0.  1.  2.  3.  4.]\n",
        " [ 0.  1.  2.  3.  4.]\n",
        " [ 0.  1.  2.  3.  4.]]\n"
       ]
      }
     ],
     "prompt_number": 140
    },
    {
     "cell_type": "markdown",
     "metadata": {},
     "source": [
      "##With a Numpy Matrix\n",
      "\n",
      "There is also a numpy matrix type which allows you to matrix math, including matrix multiplication and solving linear equations"
     ]
    },
    {
     "cell_type": "code",
     "collapsed": false,
     "input": [
      "matrix_of_ones = np.matrix(np.ones((5, 5)))\n",
      "number_matrix = np.matrix(np.arange(5)).T\n",
      "print 'Shape of matrix_of_ones = ', matrix_of_ones.shape\n",
      "print 'Shape of number_matrix = ', number_matrix.shape\n",
      "print 'matrix_of_ones = ', matrix_of_ones\n",
      "print 'number_array = ',number_array\n",
      "print 'product = ', matrix_of_ones*number_matrix"
     ],
     "language": "python",
     "metadata": {},
     "outputs": [
      {
       "output_type": "stream",
       "stream": "stdout",
       "text": [
        "Shape of matrix_of_ones =  (5, 5)\n",
        "Shape of number_matrix =  (5, 1)\n",
        "matrix_of_ones =  [[ 1.  1.  1.  1.  1.]\n",
        " [ 1.  1.  1.  1.  1.]\n",
        " [ 1.  1.  1.  1.  1.]\n",
        " [ 1.  1.  1.  1.  1.]\n",
        " [ 1.  1.  1.  1.  1.]]\n",
        "number_array =  [0 1 2 3 4]\n",
        "product =  [[ 10.]\n",
        " [ 10.]\n",
        " [ 10.]\n",
        " [ 10.]\n",
        " [ 10.]]\n"
       ]
      }
     ],
     "prompt_number": 141
    },
    {
     "cell_type": "markdown",
     "metadata": {},
     "source": [
      "##Array math is faster than list math"
     ]
    },
    {
     "cell_type": "code",
     "collapsed": false,
     "input": [
      "large_array = np.arange(1000)"
     ],
     "language": "python",
     "metadata": {},
     "outputs": []
    },
    {
     "cell_type": "markdown",
     "metadata": {},
     "source": [
      "###Double every element in a list"
     ]
    },
    {
     "cell_type": "code",
     "collapsed": false,
     "input": [
      "%%timeit\n",
      "new_large_array = []\n",
      "\n",
      "for inumber in large_array: \n",
      "    new_large_array.append(inumber*2)"
     ],
     "language": "python",
     "metadata": {},
     "outputs": [
      {
       "output_type": "stream",
       "stream": "stdout",
       "text": [
        "1000 loops, best of 3: 1.29 ms per loop\n"
       ]
      }
     ],
     "prompt_number": 142
    },
    {
     "cell_type": "markdown",
     "metadata": {},
     "source": [
      "###Double every element in an array"
     ]
    },
    {
     "cell_type": "code",
     "collapsed": false,
     "input": [
      "%%timeit\n",
      "large_array*2"
     ],
     "language": "python",
     "metadata": {},
     "outputs": [
      {
       "output_type": "stream",
       "stream": "stdout",
       "text": [
        "100000 loops, best of 3: 4.41 \u00b5s per loop\n"
       ]
      }
     ],
     "prompt_number": 116
    },
    {
     "cell_type": "code",
     "collapsed": false,
     "input": [
      "<a href = \"http://docs.scipy.org/doc/numpy/reference/index.html\">More information</a>"
     ],
     "language": "python",
     "metadata": {},
     "outputs": []
    }
   ],
   "metadata": {}
  }
 ]
}