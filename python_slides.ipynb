{
 "metadata": {
  "celltoolbar": "Slideshow",
  "name": "",
  "signature": "sha256:dafebf2efd09bfd464244dd76ed195dcc23cb7cd7aa97a65ea9c19501d7014f2"
 },
 "nbformat": 3,
 "nbformat_minor": 0,
 "worksheets": [
  {
   "cells": [
    {
     "cell_type": "heading",
     "level": 1,
     "metadata": {
      "slideshow": {
       "slide_type": "slide"
      }
     },
     "source": [
      "Python Standard Library"
     ]
    },
    {
     "cell_type": "code",
     "collapsed": false,
     "input": [
      "import argparse\n",
      "import glob\n",
      "import os\n",
      "import re\n",
      "import shutil\n",
      "from datetime import datetime"
     ],
     "language": "python",
     "metadata": {
      "slideshow": {
       "slide_type": "-"
      }
     },
     "outputs": [],
     "prompt_number": 3
    },
    {
     "cell_type": "heading",
     "level": 1,
     "metadata": {
      "slideshow": {
       "slide_type": "slide"
      }
     },
     "source": [
      "Command Line Arguments"
     ]
    },
    {
     "cell_type": "code",
     "collapsed": false,
     "input": [
      "def parse_args():\n",
      "    parser = argparse.ArgumentParser(\n",
      "        description='Reorganize reservoir storage data by year and reservoir.')\n",
      "    parser.add_argument(\n",
      "        'dest', type=str, help='New directory location for files.')\n",
      "    parser.add_argument(\n",
      "        'files', nargs='+', type=str, help='Files to copy or move.')\n",
      "    parser.add_argument(\n",
      "        '-m', '--move', action='store_true',\n",
      "        help='Move files instead of copying.')\n",
      "    parser.add_argument(\n",
      "        '-s', '--show', action='store_true',\n",
      "        help='Print new directory structure when done.')\n",
      "    return parser.parse_args()"
     ],
     "language": "python",
     "metadata": {
      "slideshow": {
       "slide_type": "slide"
      }
     },
     "outputs": [],
     "prompt_number": 2
    },
    {
     "cell_type": "markdown",
     "metadata": {
      "slideshow": {
       "slide_type": "slide"
      }
     },
     "source": [
      "    > python data_reorg.py --help\n",
      "    usage: data_reorg.py [-h] [-m] [-s] dest files [files ...]\n",
      "\n",
      "    Reorganize reservoir storage data by year and reservoir.\n",
      "\n",
      "    positional arguments:\n",
      "      dest        New directory location for files.\n",
      "      files       Files to copy or move.\n",
      "\n",
      "    optional arguments:\n",
      "      -h, --help  show this help message and exit\n",
      "      -m, --move  Move files instead of copying.\n",
      "      -s, --show  Print new directory structure when done."
     ]
    },
    {
     "cell_type": "heading",
     "level": 1,
     "metadata": {
      "slideshow": {
       "slide_type": "slide"
      }
     },
     "source": [
      "File System"
     ]
    },
    {
     "cell_type": "code",
     "collapsed": false,
     "input": [
      "if os.path.exists(dest):\n",
      "    if not os.path.isdir(dest):\n",
      "        raise RuntimeError(\n",
      "            'Something already exists with the same name '\n",
      "            'as destination directory!')\n",
      "else:\n",
      "    os.makedirs(dest)"
     ],
     "language": "python",
     "metadata": {
      "slideshow": {
       "slide_type": "slide"
      }
     },
     "outputs": []
    },
    {
     "cell_type": "code",
     "collapsed": false,
     "input": [
      "os.path.exists('data')"
     ],
     "language": "python",
     "metadata": {},
     "outputs": [
      {
       "metadata": {},
       "output_type": "pyout",
       "prompt_number": 5,
       "text": [
        "True"
       ]
      }
     ],
     "prompt_number": 5
    },
    {
     "cell_type": "code",
     "collapsed": false,
     "input": [
      "if move:\n",
      "    func = shutil.move\n",
      "else:\n",
      "    func = shutil.copy"
     ],
     "language": "python",
     "metadata": {
      "slideshow": {
       "slide_type": "slide"
      }
     },
     "outputs": []
    },
    {
     "cell_type": "code",
     "collapsed": false,
     "input": [
      "final_dest = os.path.join(dest, reservoir)"
     ],
     "language": "python",
     "metadata": {
      "slideshow": {
       "slide_type": "slide"
      }
     },
     "outputs": []
    },
    {
     "cell_type": "code",
     "collapsed": false,
     "input": [
      "os.path.join('data', 'NICASIO', '2012')"
     ],
     "language": "python",
     "metadata": {},
     "outputs": [
      {
       "metadata": {},
       "output_type": "pyout",
       "prompt_number": 4,
       "text": [
        "'data/NICASIO/2012'"
       ]
      }
     ],
     "prompt_number": 4
    },
    {
     "cell_type": "code",
     "collapsed": false,
     "input": [
      "files = glob.glob(os.path.join(dest, '**', '*.txt'))"
     ],
     "language": "python",
     "metadata": {
      "slideshow": {
       "slide_type": "slide"
      }
     },
     "outputs": []
    },
    {
     "cell_type": "code",
     "collapsed": false,
     "input": [
      "glob.glob('data/n*.txt')"
     ],
     "language": "python",
     "metadata": {},
     "outputs": [
      {
       "metadata": {},
       "output_type": "pyout",
       "prompt_number": 7,
       "text": [
        "['data/n10.txt',\n",
        " 'data/n11.txt',\n",
        " 'data/n12.txt',\n",
        " 'data/n13.txt',\n",
        " 'data/n14.txt',\n",
        " 'data/n6.txt',\n",
        " 'data/n7.txt',\n",
        " 'data/n8.txt',\n",
        " 'data/n9.txt']"
       ]
      }
     ],
     "prompt_number": 7
    },
    {
     "cell_type": "heading",
     "level": 1,
     "metadata": {
      "slideshow": {
       "slide_type": "slide"
      }
     },
     "source": [
      "Regular Expressions and Strings"
     ]
    },
    {
     "cell_type": "code",
     "collapsed": false,
     "input": [
      "# get just the reservoir name from e.g. '#NICASIO'\n",
      "reservoir = re.search(r'#\\s*(.*)', line).group(1)"
     ],
     "language": "python",
     "metadata": {},
     "outputs": []
    },
    {
     "cell_type": "code",
     "collapsed": false,
     "input": [
      "re.search(r'#\\s*(.*)', '# NICASIO').group(1)"
     ],
     "language": "python",
     "metadata": {},
     "outputs": [
      {
       "metadata": {},
       "output_type": "pyout",
       "prompt_number": 8,
       "text": [
        "'NICASIO'"
       ]
      }
     ],
     "prompt_number": 8
    },
    {
     "cell_type": "code",
     "collapsed": false,
     "input": [
      "reservoir = reservoir.replace(' ', '')"
     ],
     "language": "python",
     "metadata": {
      "slideshow": {
       "slide_type": "slide"
      }
     },
     "outputs": []
    },
    {
     "cell_type": "code",
     "collapsed": false,
     "input": [
      "'San Pablo Reservoir'.replace(' ', '')"
     ],
     "language": "python",
     "metadata": {},
     "outputs": [
      {
       "metadata": {},
       "output_type": "pyout",
       "prompt_number": 9,
       "text": [
        "'SanPabloReservoir'"
       ]
      }
     ],
     "prompt_number": 9
    },
    {
     "cell_type": "code",
     "collapsed": false,
     "input": [
      "'San Pablo Reservoir'.replace(' ', '').lower()"
     ],
     "language": "python",
     "metadata": {},
     "outputs": [
      {
       "metadata": {},
       "output_type": "pyout",
       "prompt_number": 10,
       "text": [
        "'sanpabloreservoir'"
       ]
      }
     ],
     "prompt_number": 10
    },
    {
     "cell_type": "code",
     "collapsed": false,
     "input": [
      "'{}_{}.txt'.format(reservoir, year)"
     ],
     "language": "python",
     "metadata": {
      "slideshow": {
       "slide_type": "slide"
      }
     },
     "outputs": []
    },
    {
     "cell_type": "code",
     "collapsed": false,
     "input": [
      "reservoir = 'SanPabloReservoir'\n",
      "year = 2014\n",
      "'{}_{}.txt'.format(reservoir, year)"
     ],
     "language": "python",
     "metadata": {},
     "outputs": [
      {
       "metadata": {},
       "output_type": "pyout",
       "prompt_number": 11,
       "text": [
        "'SanPabloReservoir_2014.txt'"
       ]
      }
     ],
     "prompt_number": 11
    },
    {
     "cell_type": "heading",
     "level": 1,
     "metadata": {
      "slideshow": {
       "slide_type": "slide"
      }
     },
     "source": [
      "Dates"
     ]
    },
    {
     "cell_type": "code",
     "collapsed": false,
     "input": [
      "date = datetime.strptime(date, '%m/%Y')"
     ],
     "language": "python",
     "metadata": {},
     "outputs": []
    },
    {
     "cell_type": "code",
     "collapsed": false,
     "input": [
      "date = datetime.strptime('10/9/2014', '%d/%m/%Y')\n",
      "print(date)\n",
      "print(date.year)"
     ],
     "language": "python",
     "metadata": {},
     "outputs": [
      {
       "output_type": "stream",
       "stream": "stdout",
       "text": [
        "2014-09-10 00:00:00\n",
        "2014\n"
       ]
      }
     ],
     "prompt_number": 13
    }
   ],
   "metadata": {}
  }
 ]
}