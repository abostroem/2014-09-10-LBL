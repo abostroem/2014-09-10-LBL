{
 "metadata": {
  "name": "",
  "signature": "sha256:f6681e9def0e8e59171e6002f8bdbc132a0780e462002fcf4b879fd6f002994a"
 },
 "nbformat": 3,
 "nbformat_minor": 0,
 "worksheets": [
  {
   "cells": [
    {
     "cell_type": "heading",
     "level": 1,
     "metadata": {},
     "source": [
      "Intro to Pandas"
     ]
    },
    {
     "cell_type": "markdown",
     "metadata": {},
     "source": [
      "[Pandas](http://pandas.pydata.org/) is a Python library that builds on\n",
      "[NumPy](http://www.numpy.org) to provide convenient data structures for\n",
      "\"tabular\" datasets. From the [documentation](http://pandas.pydata.org/pandas-docs/stable/):\n",
      "\n",
      "> pandas is a Python package providing fast, flexible, and expressive data structures designed to make working with \u201crelational\u201d or \u201clabeled\u201d data both easy and intuitive.\n",
      "\n",
      "With NumPy arrays you are mostly limited to numeric indexing.\n",
      "Pandas gives you the ability to label data by row and column with rich,\n",
      "sophisticated indexes.\n",
      "If you are familar with Excel or [SQL](http://en.wikipedia.org/wiki/SQL),\n",
      "Pandas provides features similar to what you might find in those."
     ]
    },
    {
     "cell_type": "code",
     "collapsed": false,
     "input": [
      "from datetime import datetime\n",
      "import pandas as pd"
     ],
     "language": "python",
     "metadata": {},
     "outputs": [],
     "prompt_number": 1
    },
    {
     "cell_type": "heading",
     "level": 2,
     "metadata": {},
     "source": [
      "Loading Data"
     ]
    },
    {
     "cell_type": "markdown",
     "metadata": {},
     "source": [
      "We're going to work with a dataset of precipitation data from weather stations around\n",
      "California. It contains monthly totals of precipitation at each station since 2011.\n",
      "It was parsed from public data like this: http://cdec.water.ca.gov/cgi-progs/reports/PRECIPOUT.2011.\n",
      "(The work I did to parse the data\n",
      "[is available](http://nbviewer.ipython.org/github/abostroem/2014-09-10-LBL/blob/master/pandas/load_precip_data.ipynb).)\n",
      "\n",
      "Here's a look at the CSV file of data:"
     ]
    },
    {
     "cell_type": "code",
     "collapsed": false,
     "input": [
      "!head precip_data.csv"
     ],
     "language": "python",
     "metadata": {},
     "outputs": [
      {
       "output_type": "stream",
       "stream": "stdout",
       "text": [
        "region,subregion,station,abbreviation,elevation,year,month,precip,avg precip,pct of avg\r\n",
        "NORTH COAST,SMITH RIVER,Gasquet Ranger Station,GAS,384,2011,Oct,8.4,7.53,112.0\r\n",
        "NORTH COAST,SMITH RIVER,Gasquet Ranger Station,GAS,384,2011,Nov,12.42,14.14,88.0\r\n",
        "NORTH COAST,SMITH RIVER,Gasquet Ranger Station,GAS,384,2011,Dec,25.0,16.37,153.0\r\n",
        "NORTH COAST,SMITH RIVER,Gasquet Ranger Station,GAS,384,2011,Jan,4.91,16.45,30.0\r\n",
        "NORTH COAST,SMITH RIVER,Gasquet Ranger Station,GAS,384,2011,Feb,9.53,11.95,80.0\r\n",
        "NORTH COAST,SMITH RIVER,Gasquet Ranger Station,GAS,384,2011,Mar,26.47,11.08,239.0\r\n",
        "NORTH COAST,SMITH RIVER,Gasquet Ranger Station,GAS,384,2011,Apr,10.25,6.47,158.0\r\n",
        "NORTH COAST,SMITH RIVER,Gasquet Ranger Station,GAS,384,2011,May,4.67,4.43,105.0\r\n",
        "NORTH COAST,SMITH RIVER,Gasquet Ranger Station,GAS,384,2011,Jun,1.62,0.83,195.0\r\n"
       ]
      }
     ],
     "prompt_number": 2
    },
    {
     "cell_type": "markdown",
     "metadata": {},
     "source": [
      "We'll use Pandas's [read_csv function](http://pandas.pydata.org/pandas-docs/stable/io.html#io-read-csv-table)\n",
      "to load the CSV file.\n",
      "`read_csv` can parse data into dates.\n",
      "The default date parser is usually pretty good, but with this data it'll need some help\n",
      "from the [datetime](https://docs.python.org/2/library/datetime.html) module."
     ]
    },
    {
     "cell_type": "code",
     "collapsed": false,
     "input": [
      "def date_parser(month, year):\n",
      "    if '-' not in month:\n",
      "        return datetime.strptime('{} {}'.format(month, year), '%b %Y')\n",
      "    else:\n",
      "        # some \"months\" are not actual months, but ranges\n",
      "        # that cover a \"Water Year\".\n",
      "        # we'll label those with just the year value.\n",
      "        return datetime(int(year), 1, 1)"
     ],
     "language": "python",
     "metadata": {},
     "outputs": [],
     "prompt_number": 3
    },
    {
     "cell_type": "code",
     "collapsed": false,
     "input": [
      "df = pd.read_csv('precip_data.csv', parse_dates={'date': ['month', 'year']}, \n",
      "                 keep_date_col=True, date_parser=date_parser)"
     ],
     "language": "python",
     "metadata": {},
     "outputs": [],
     "prompt_number": 4
    },
    {
     "cell_type": "code",
     "collapsed": false,
     "input": [
      "df.head()"
     ],
     "language": "python",
     "metadata": {},
     "outputs": [
      {
       "html": [
        "<div style=\"max-height:1000px;max-width:1500px;overflow:auto;\">\n",
        "<table border=\"1\" class=\"dataframe\">\n",
        "  <thead>\n",
        "    <tr style=\"text-align: right;\">\n",
        "      <th></th>\n",
        "      <th>date</th>\n",
        "      <th>region</th>\n",
        "      <th>subregion</th>\n",
        "      <th>station</th>\n",
        "      <th>abbreviation</th>\n",
        "      <th>elevation</th>\n",
        "      <th>year</th>\n",
        "      <th>month</th>\n",
        "      <th>precip</th>\n",
        "      <th>avg precip</th>\n",
        "      <th>pct of avg</th>\n",
        "    </tr>\n",
        "  </thead>\n",
        "  <tbody>\n",
        "    <tr>\n",
        "      <th>0</th>\n",
        "      <td>2011-10-01</td>\n",
        "      <td> NORTH COAST</td>\n",
        "      <td> SMITH RIVER</td>\n",
        "      <td> Gasquet Ranger Station</td>\n",
        "      <td> GAS</td>\n",
        "      <td> 384</td>\n",
        "      <td> 2011</td>\n",
        "      <td> Oct</td>\n",
        "      <td>  8.40</td>\n",
        "      <td>  7.53</td>\n",
        "      <td> 112</td>\n",
        "    </tr>\n",
        "    <tr>\n",
        "      <th>1</th>\n",
        "      <td>2011-11-01</td>\n",
        "      <td> NORTH COAST</td>\n",
        "      <td> SMITH RIVER</td>\n",
        "      <td> Gasquet Ranger Station</td>\n",
        "      <td> GAS</td>\n",
        "      <td> 384</td>\n",
        "      <td> 2011</td>\n",
        "      <td> Nov</td>\n",
        "      <td> 12.42</td>\n",
        "      <td> 14.14</td>\n",
        "      <td>  88</td>\n",
        "    </tr>\n",
        "    <tr>\n",
        "      <th>2</th>\n",
        "      <td>2011-12-01</td>\n",
        "      <td> NORTH COAST</td>\n",
        "      <td> SMITH RIVER</td>\n",
        "      <td> Gasquet Ranger Station</td>\n",
        "      <td> GAS</td>\n",
        "      <td> 384</td>\n",
        "      <td> 2011</td>\n",
        "      <td> Dec</td>\n",
        "      <td> 25.00</td>\n",
        "      <td> 16.37</td>\n",
        "      <td> 153</td>\n",
        "    </tr>\n",
        "    <tr>\n",
        "      <th>3</th>\n",
        "      <td>2011-01-01</td>\n",
        "      <td> NORTH COAST</td>\n",
        "      <td> SMITH RIVER</td>\n",
        "      <td> Gasquet Ranger Station</td>\n",
        "      <td> GAS</td>\n",
        "      <td> 384</td>\n",
        "      <td> 2011</td>\n",
        "      <td> Jan</td>\n",
        "      <td>  4.91</td>\n",
        "      <td> 16.45</td>\n",
        "      <td>  30</td>\n",
        "    </tr>\n",
        "    <tr>\n",
        "      <th>4</th>\n",
        "      <td>2011-02-01</td>\n",
        "      <td> NORTH COAST</td>\n",
        "      <td> SMITH RIVER</td>\n",
        "      <td> Gasquet Ranger Station</td>\n",
        "      <td> GAS</td>\n",
        "      <td> 384</td>\n",
        "      <td> 2011</td>\n",
        "      <td> Feb</td>\n",
        "      <td>  9.53</td>\n",
        "      <td> 11.95</td>\n",
        "      <td>  80</td>\n",
        "    </tr>\n",
        "  </tbody>\n",
        "</table>\n",
        "</div>"
       ],
       "metadata": {},
       "output_type": "pyout",
       "prompt_number": 5,
       "text": [
        "        date       region    subregion                 station abbreviation  \\\n",
        "0 2011-10-01  NORTH COAST  SMITH RIVER  Gasquet Ranger Station          GAS   \n",
        "1 2011-11-01  NORTH COAST  SMITH RIVER  Gasquet Ranger Station          GAS   \n",
        "2 2011-12-01  NORTH COAST  SMITH RIVER  Gasquet Ranger Station          GAS   \n",
        "3 2011-01-01  NORTH COAST  SMITH RIVER  Gasquet Ranger Station          GAS   \n",
        "4 2011-02-01  NORTH COAST  SMITH RIVER  Gasquet Ranger Station          GAS   \n",
        "\n",
        "   elevation  year month  precip  avg precip  pct of avg  \n",
        "0        384  2011   Oct    8.40        7.53         112  \n",
        "1        384  2011   Nov   12.42       14.14          88  \n",
        "2        384  2011   Dec   25.00       16.37         153  \n",
        "3        384  2011   Jan    4.91       16.45          30  \n",
        "4        384  2011   Feb    9.53       11.95          80  "
       ]
      }
     ],
     "prompt_number": 5
    },
    {
     "cell_type": "heading",
     "level": 2,
     "metadata": {},
     "source": [
      "Basic Indexing"
     ]
    },
    {
     "cell_type": "markdown",
     "metadata": {},
     "source": [
      "Pandas' basic tabular data structure is the [DataFrame](http://pandas.pydata.org/pandas-docs/stable/dsintro.html#dataframe).\n",
      "You can grab individual columns:"
     ]
    },
    {
     "cell_type": "code",
     "collapsed": false,
     "input": [
      "df['station']"
     ],
     "language": "python",
     "metadata": {},
     "outputs": [
      {
       "metadata": {},
       "output_type": "pyout",
       "prompt_number": 6,
       "text": [
        "0     Gasquet Ranger Station\n",
        "1     Gasquet Ranger Station\n",
        "2     Gasquet Ranger Station\n",
        "3     Gasquet Ranger Station\n",
        "4     Gasquet Ranger Station\n",
        "5     Gasquet Ranger Station\n",
        "6     Gasquet Ranger Station\n",
        "7     Gasquet Ranger Station\n",
        "8     Gasquet Ranger Station\n",
        "9     Gasquet Ranger Station\n",
        "10    Gasquet Ranger Station\n",
        "11    Gasquet Ranger Station\n",
        "12    Gasquet Ranger Station\n",
        "13    Gasquet Ranger Station\n",
        "14                  Callahan\n",
        "...\n",
        "9665             Niland\n",
        "9666             Niland\n",
        "9667    Imperial Valley\n",
        "9668    Imperial Valley\n",
        "9669    Imperial Valley\n",
        "9670    Imperial Valley\n",
        "9671    Imperial Valley\n",
        "9672    Imperial Valley\n",
        "9673    Imperial Valley\n",
        "9674    Imperial Valley\n",
        "9675    Imperial Valley\n",
        "9676    Imperial Valley\n",
        "9677    Imperial Valley\n",
        "9678    Imperial Valley\n",
        "9679    Imperial Valley\n",
        "Name: station, Length: 9680, dtype: object"
       ]
      }
     ],
     "prompt_number": 6
    },
    {
     "cell_type": "markdown",
     "metadata": {},
     "source": [
      "And individual rows:"
     ]
    },
    {
     "cell_type": "code",
     "collapsed": false,
     "input": [
      "df.loc[8]"
     ],
     "language": "python",
     "metadata": {},
     "outputs": [
      {
       "metadata": {},
       "output_type": "pyout",
       "prompt_number": 7,
       "text": [
        "date               2011-06-01 00:00:00\n",
        "region                     NORTH COAST\n",
        "subregion                  SMITH RIVER\n",
        "station         Gasquet Ranger Station\n",
        "abbreviation                       GAS\n",
        "elevation                          384\n",
        "year                              2011\n",
        "month                              Jun\n",
        "precip                            1.62\n",
        "avg precip                        0.83\n",
        "pct of avg                         195\n",
        "Name: 8, dtype: object"
       ]
      }
     ],
     "prompt_number": 7
    },
    {
     "cell_type": "markdown",
     "metadata": {},
     "source": [
      "The one dimensional structure returned when indexing a single column or row\n",
      "is called a [Series](http://pandas.pydata.org/pandas-docs/stable/dsintro.html#series).\n",
      "It's similar to a NumPy array, but with an extra index.\n",
      "Individual items can be accessed by their index, or by their location:"
     ]
    },
    {
     "cell_type": "code",
     "collapsed": false,
     "input": [
      "row = df.loc[8]\n",
      "print('Station:', row['station'])\n",
      "print('Abbreviation:', row.iloc[4])"
     ],
     "language": "python",
     "metadata": {},
     "outputs": [
      {
       "output_type": "stream",
       "stream": "stdout",
       "text": [
        "Station: Gasquet Ranger Station\n",
        "Abbreviation: GAS\n"
       ]
      }
     ],
     "prompt_number": 8
    },
    {
     "cell_type": "markdown",
     "metadata": {},
     "source": [
      "Series objects have many of the same methods as NumPy arrays, such as\n",
      "mean, sum, sort, etc."
     ]
    },
    {
     "cell_type": "heading",
     "level": 2,
     "metadata": {},
     "source": [
      "Filtering"
     ]
    },
    {
     "cell_type": "markdown",
     "metadata": {},
     "source": [
      "Filtering Pandas objects is even more powerful than with NumPy arrays.\n",
      "The DataFrame we're working with has rows for individual months and\n",
      "rows for the entire year.\n",
      "It's hard to have both in the same table, so we can separate them.\n",
      "One way is with boolean filtering:"
     ]
    },
    {
     "cell_type": "code",
     "collapsed": false,
     "input": [
      "year_obs = df.loc[df.month.isin(['Oct-Sep', 'Oct-Aug'])]\n",
      "year_obs.head()"
     ],
     "language": "python",
     "metadata": {},
     "outputs": [
      {
       "html": [
        "<div style=\"max-height:1000px;max-width:1500px;overflow:auto;\">\n",
        "<table border=\"1\" class=\"dataframe\">\n",
        "  <thead>\n",
        "    <tr style=\"text-align: right;\">\n",
        "      <th></th>\n",
        "      <th>date</th>\n",
        "      <th>region</th>\n",
        "      <th>subregion</th>\n",
        "      <th>station</th>\n",
        "      <th>abbreviation</th>\n",
        "      <th>elevation</th>\n",
        "      <th>year</th>\n",
        "      <th>month</th>\n",
        "      <th>precip</th>\n",
        "      <th>avg precip</th>\n",
        "      <th>pct of avg</th>\n",
        "    </tr>\n",
        "  </thead>\n",
        "  <tbody>\n",
        "    <tr>\n",
        "      <th>12</th>\n",
        "      <td>2011-01-01</td>\n",
        "      <td> NORTH COAST</td>\n",
        "      <td>   SMITH RIVER</td>\n",
        "      <td> Gasquet Ranger Station</td>\n",
        "      <td> GAS</td>\n",
        "      <td>  384</td>\n",
        "      <td> 2011</td>\n",
        "      <td> Oct-Sep</td>\n",
        "      <td> 104.00</td>\n",
        "      <td> 92.33</td>\n",
        "      <td> 113</td>\n",
        "    </tr>\n",
        "    <tr>\n",
        "      <th>26</th>\n",
        "      <td>2011-01-01</td>\n",
        "      <td> NORTH COAST</td>\n",
        "      <td> KLAMATH RIVER</td>\n",
        "      <td>               Callahan</td>\n",
        "      <td> CAL</td>\n",
        "      <td> 3185</td>\n",
        "      <td> 2011</td>\n",
        "      <td> Oct-Sep</td>\n",
        "      <td>  23.70</td>\n",
        "      <td> 20.05</td>\n",
        "      <td> 118</td>\n",
        "    </tr>\n",
        "    <tr>\n",
        "      <th>40</th>\n",
        "      <td>2011-01-01</td>\n",
        "      <td> NORTH COAST</td>\n",
        "      <td> KLAMATH RIVER</td>\n",
        "      <td>          Fort Jones RS</td>\n",
        "      <td> FJN</td>\n",
        "      <td> 2725</td>\n",
        "      <td> 2011</td>\n",
        "      <td> Oct-Sep</td>\n",
        "      <td>  23.19</td>\n",
        "      <td> 21.85</td>\n",
        "      <td> 106</td>\n",
        "    </tr>\n",
        "    <tr>\n",
        "      <th>54</th>\n",
        "      <td>2011-01-01</td>\n",
        "      <td> NORTH COAST</td>\n",
        "      <td> KLAMATH RIVER</td>\n",
        "      <td>                  Yreka</td>\n",
        "      <td> YRK</td>\n",
        "      <td> 2625</td>\n",
        "      <td> 2011</td>\n",
        "      <td> Oct-Sep</td>\n",
        "      <td>  22.47</td>\n",
        "      <td> 18.28</td>\n",
        "      <td> 123</td>\n",
        "    </tr>\n",
        "    <tr>\n",
        "      <th>68</th>\n",
        "      <td>2011-01-01</td>\n",
        "      <td> NORTH COAST</td>\n",
        "      <td> KLAMATH RIVER</td>\n",
        "      <td>          Happy Camp RS</td>\n",
        "      <td> HAP</td>\n",
        "      <td> 1120</td>\n",
        "      <td> 2011</td>\n",
        "      <td> Oct-Sep</td>\n",
        "      <td>  52.33</td>\n",
        "      <td> 54.09</td>\n",
        "      <td>  97</td>\n",
        "    </tr>\n",
        "  </tbody>\n",
        "</table>\n",
        "</div>"
       ],
       "metadata": {},
       "output_type": "pyout",
       "prompt_number": 16,
       "text": [
        "         date       region      subregion                 station  \\\n",
        "12 2011-01-01  NORTH COAST    SMITH RIVER  Gasquet Ranger Station   \n",
        "26 2011-01-01  NORTH COAST  KLAMATH RIVER                Callahan   \n",
        "40 2011-01-01  NORTH COAST  KLAMATH RIVER           Fort Jones RS   \n",
        "54 2011-01-01  NORTH COAST  KLAMATH RIVER                   Yreka   \n",
        "68 2011-01-01  NORTH COAST  KLAMATH RIVER           Happy Camp RS   \n",
        "\n",
        "   abbreviation  elevation  year    month  precip  avg precip  pct of avg  \n",
        "12          GAS        384  2011  Oct-Sep  104.00       92.33         113  \n",
        "26          CAL       3185  2011  Oct-Sep   23.70       20.05         118  \n",
        "40          FJN       2725  2011  Oct-Sep   23.19       21.85         106  \n",
        "54          YRK       2625  2011  Oct-Sep   22.47       18.28         123  \n",
        "68          HAP       1120  2011  Oct-Sep   52.33       54.09          97  "
       ]
      }
     ],
     "prompt_number": 16
    },
    {
     "cell_type": "markdown",
     "metadata": {},
     "source": [
      "Another option for filtering is the\n",
      "[DataFrame.query](http://pandas.pydata.org/pandas-docs/stable/indexing.html#the-query-method-experimental)\n",
      "method."
     ]
    },
    {
     "cell_type": "code",
     "collapsed": false,
     "input": [
      "monthly_obs = df.query('month not in [\"Oct-Sep\", \"Oct-Aug\", \"Wat-Yr\"]')"
     ],
     "language": "python",
     "metadata": {},
     "outputs": [],
     "prompt_number": 21
    },
    {
     "cell_type": "code",
     "collapsed": false,
     "input": [
      "monthly_obs.head()"
     ],
     "language": "python",
     "metadata": {},
     "outputs": [
      {
       "html": [
        "<div style=\"max-height:1000px;max-width:1500px;overflow:auto;\">\n",
        "<table border=\"1\" class=\"dataframe\">\n",
        "  <thead>\n",
        "    <tr style=\"text-align: right;\">\n",
        "      <th></th>\n",
        "      <th>date</th>\n",
        "      <th>region</th>\n",
        "      <th>subregion</th>\n",
        "      <th>station</th>\n",
        "      <th>abbreviation</th>\n",
        "      <th>elevation</th>\n",
        "      <th>year</th>\n",
        "      <th>month</th>\n",
        "      <th>precip</th>\n",
        "      <th>avg precip</th>\n",
        "      <th>pct of avg</th>\n",
        "    </tr>\n",
        "  </thead>\n",
        "  <tbody>\n",
        "    <tr>\n",
        "      <th>0</th>\n",
        "      <td>2011-10-01</td>\n",
        "      <td> NORTH COAST</td>\n",
        "      <td> SMITH RIVER</td>\n",
        "      <td> Gasquet Ranger Station</td>\n",
        "      <td> GAS</td>\n",
        "      <td> 384</td>\n",
        "      <td> 2011</td>\n",
        "      <td> Oct</td>\n",
        "      <td>  8.40</td>\n",
        "      <td>  7.53</td>\n",
        "      <td> 112</td>\n",
        "    </tr>\n",
        "    <tr>\n",
        "      <th>1</th>\n",
        "      <td>2011-11-01</td>\n",
        "      <td> NORTH COAST</td>\n",
        "      <td> SMITH RIVER</td>\n",
        "      <td> Gasquet Ranger Station</td>\n",
        "      <td> GAS</td>\n",
        "      <td> 384</td>\n",
        "      <td> 2011</td>\n",
        "      <td> Nov</td>\n",
        "      <td> 12.42</td>\n",
        "      <td> 14.14</td>\n",
        "      <td>  88</td>\n",
        "    </tr>\n",
        "    <tr>\n",
        "      <th>2</th>\n",
        "      <td>2011-12-01</td>\n",
        "      <td> NORTH COAST</td>\n",
        "      <td> SMITH RIVER</td>\n",
        "      <td> Gasquet Ranger Station</td>\n",
        "      <td> GAS</td>\n",
        "      <td> 384</td>\n",
        "      <td> 2011</td>\n",
        "      <td> Dec</td>\n",
        "      <td> 25.00</td>\n",
        "      <td> 16.37</td>\n",
        "      <td> 153</td>\n",
        "    </tr>\n",
        "    <tr>\n",
        "      <th>3</th>\n",
        "      <td>2011-01-01</td>\n",
        "      <td> NORTH COAST</td>\n",
        "      <td> SMITH RIVER</td>\n",
        "      <td> Gasquet Ranger Station</td>\n",
        "      <td> GAS</td>\n",
        "      <td> 384</td>\n",
        "      <td> 2011</td>\n",
        "      <td> Jan</td>\n",
        "      <td>  4.91</td>\n",
        "      <td> 16.45</td>\n",
        "      <td>  30</td>\n",
        "    </tr>\n",
        "    <tr>\n",
        "      <th>4</th>\n",
        "      <td>2011-02-01</td>\n",
        "      <td> NORTH COAST</td>\n",
        "      <td> SMITH RIVER</td>\n",
        "      <td> Gasquet Ranger Station</td>\n",
        "      <td> GAS</td>\n",
        "      <td> 384</td>\n",
        "      <td> 2011</td>\n",
        "      <td> Feb</td>\n",
        "      <td>  9.53</td>\n",
        "      <td> 11.95</td>\n",
        "      <td>  80</td>\n",
        "    </tr>\n",
        "  </tbody>\n",
        "</table>\n",
        "</div>"
       ],
       "metadata": {},
       "output_type": "pyout",
       "prompt_number": 15,
       "text": [
        "        date       region    subregion                 station abbreviation  \\\n",
        "0 2011-10-01  NORTH COAST  SMITH RIVER  Gasquet Ranger Station          GAS   \n",
        "1 2011-11-01  NORTH COAST  SMITH RIVER  Gasquet Ranger Station          GAS   \n",
        "2 2011-12-01  NORTH COAST  SMITH RIVER  Gasquet Ranger Station          GAS   \n",
        "3 2011-01-01  NORTH COAST  SMITH RIVER  Gasquet Ranger Station          GAS   \n",
        "4 2011-02-01  NORTH COAST  SMITH RIVER  Gasquet Ranger Station          GAS   \n",
        "\n",
        "   elevation  year month  precip  avg precip  pct of avg  \n",
        "0        384  2011   Oct    8.40        7.53         112  \n",
        "1        384  2011   Nov   12.42       14.14          88  \n",
        "2        384  2011   Dec   25.00       16.37         153  \n",
        "3        384  2011   Jan    4.91       16.45          30  \n",
        "4        384  2011   Feb    9.53       11.95          80  "
       ]
      }
     ],
     "prompt_number": 15
    },
    {
     "cell_type": "heading",
     "level": 2,
     "metadata": {},
     "source": [
      "Creating Indexes"
     ]
    },
    {
     "cell_type": "markdown",
     "metadata": {},
     "source": [
      "We may want to be able to select individual rows by something other than\n",
      "some number, like by actually using the information in the rows.\n",
      "We could use filtering, but we can also take advantage of Pandas' indexing.\n",
      "Each row in the `monthly_obs` table is uniquely identified by a combination\n",
      "of abbreviation, year, and month.\n",
      "Let's make that the index!"
     ]
    },
    {
     "cell_type": "code",
     "collapsed": false,
     "input": [
      "monthly_obs = monthly_obs.set_index(['abbreviation', 'year', 'month'])\n",
      "monthly_obs.head()"
     ],
     "language": "python",
     "metadata": {},
     "outputs": [
      {
       "html": [
        "<div style=\"max-height:1000px;max-width:1500px;overflow:auto;\">\n",
        "<table border=\"1\" class=\"dataframe\">\n",
        "  <thead>\n",
        "    <tr style=\"text-align: right;\">\n",
        "      <th></th>\n",
        "      <th></th>\n",
        "      <th></th>\n",
        "      <th>date</th>\n",
        "      <th>region</th>\n",
        "      <th>subregion</th>\n",
        "      <th>station</th>\n",
        "      <th>elevation</th>\n",
        "      <th>precip</th>\n",
        "      <th>avg precip</th>\n",
        "      <th>pct of avg</th>\n",
        "    </tr>\n",
        "    <tr>\n",
        "      <th>abbreviation</th>\n",
        "      <th>year</th>\n",
        "      <th>month</th>\n",
        "      <th></th>\n",
        "      <th></th>\n",
        "      <th></th>\n",
        "      <th></th>\n",
        "      <th></th>\n",
        "      <th></th>\n",
        "      <th></th>\n",
        "      <th></th>\n",
        "    </tr>\n",
        "  </thead>\n",
        "  <tbody>\n",
        "    <tr>\n",
        "      <th rowspan=\"5\" valign=\"top\">GAS</th>\n",
        "      <th rowspan=\"5\" valign=\"top\">2011</th>\n",
        "      <th>Oct</th>\n",
        "      <td>2011-10-01</td>\n",
        "      <td> NORTH COAST</td>\n",
        "      <td> SMITH RIVER</td>\n",
        "      <td> Gasquet Ranger Station</td>\n",
        "      <td> 384</td>\n",
        "      <td>  8.40</td>\n",
        "      <td>  7.53</td>\n",
        "      <td> 112</td>\n",
        "    </tr>\n",
        "    <tr>\n",
        "      <th>Nov</th>\n",
        "      <td>2011-11-01</td>\n",
        "      <td> NORTH COAST</td>\n",
        "      <td> SMITH RIVER</td>\n",
        "      <td> Gasquet Ranger Station</td>\n",
        "      <td> 384</td>\n",
        "      <td> 12.42</td>\n",
        "      <td> 14.14</td>\n",
        "      <td>  88</td>\n",
        "    </tr>\n",
        "    <tr>\n",
        "      <th>Dec</th>\n",
        "      <td>2011-12-01</td>\n",
        "      <td> NORTH COAST</td>\n",
        "      <td> SMITH RIVER</td>\n",
        "      <td> Gasquet Ranger Station</td>\n",
        "      <td> 384</td>\n",
        "      <td> 25.00</td>\n",
        "      <td> 16.37</td>\n",
        "      <td> 153</td>\n",
        "    </tr>\n",
        "    <tr>\n",
        "      <th>Jan</th>\n",
        "      <td>2011-01-01</td>\n",
        "      <td> NORTH COAST</td>\n",
        "      <td> SMITH RIVER</td>\n",
        "      <td> Gasquet Ranger Station</td>\n",
        "      <td> 384</td>\n",
        "      <td>  4.91</td>\n",
        "      <td> 16.45</td>\n",
        "      <td>  30</td>\n",
        "    </tr>\n",
        "    <tr>\n",
        "      <th>Feb</th>\n",
        "      <td>2011-02-01</td>\n",
        "      <td> NORTH COAST</td>\n",
        "      <td> SMITH RIVER</td>\n",
        "      <td> Gasquet Ranger Station</td>\n",
        "      <td> 384</td>\n",
        "      <td>  9.53</td>\n",
        "      <td> 11.95</td>\n",
        "      <td>  80</td>\n",
        "    </tr>\n",
        "  </tbody>\n",
        "</table>\n",
        "</div>"
       ],
       "metadata": {},
       "output_type": "pyout",
       "prompt_number": 33,
       "text": [
        "                              date       region    subregion  \\\n",
        "abbreviation year month                                        \n",
        "GAS          2011 Oct   2011-10-01  NORTH COAST  SMITH RIVER   \n",
        "                  Nov   2011-11-01  NORTH COAST  SMITH RIVER   \n",
        "                  Dec   2011-12-01  NORTH COAST  SMITH RIVER   \n",
        "                  Jan   2011-01-01  NORTH COAST  SMITH RIVER   \n",
        "                  Feb   2011-02-01  NORTH COAST  SMITH RIVER   \n",
        "\n",
        "                                        station  elevation  precip  \\\n",
        "abbreviation year month                                              \n",
        "GAS          2011 Oct    Gasquet Ranger Station        384    8.40   \n",
        "                  Nov    Gasquet Ranger Station        384   12.42   \n",
        "                  Dec    Gasquet Ranger Station        384   25.00   \n",
        "                  Jan    Gasquet Ranger Station        384    4.91   \n",
        "                  Feb    Gasquet Ranger Station        384    9.53   \n",
        "\n",
        "                         avg precip  pct of avg  \n",
        "abbreviation year month                          \n",
        "GAS          2011 Oct          7.53         112  \n",
        "                  Nov         14.14          88  \n",
        "                  Dec         16.37         153  \n",
        "                  Jan         16.45          30  \n",
        "                  Feb         11.95          80  "
       ]
      }
     ],
     "prompt_number": 33
    },
    {
     "cell_type": "code",
     "collapsed": false,
     "input": [
      "monthly_obs.loc[('GAS', '2013', 'Jun')]"
     ],
     "language": "python",
     "metadata": {},
     "outputs": [
      {
       "metadata": {},
       "output_type": "pyout",
       "prompt_number": 34,
       "text": [
        "date             2013-06-01 00:00:00\n",
        "region                   NORTH COAST\n",
        "subregion                SMITH RIVER\n",
        "station       Gasquet Ranger Station\n",
        "elevation                        384\n",
        "precip                          2.34\n",
        "avg precip                      0.83\n",
        "pct of avg                       282\n",
        "Name: (GAS, 2013, Jun), dtype: object"
       ]
      }
     ],
     "prompt_number": 34
    },
    {
     "cell_type": "markdown",
     "metadata": {},
     "source": [
      "And it's easy to move columns back into the table from the index:"
     ]
    },
    {
     "cell_type": "code",
     "collapsed": false,
     "input": [
      "monthly_obs = monthly_obs.reset_index()\n",
      "monthly_obs.head()"
     ],
     "language": "python",
     "metadata": {},
     "outputs": [
      {
       "html": [
        "<div style=\"max-height:1000px;max-width:1500px;overflow:auto;\">\n",
        "<table border=\"1\" class=\"dataframe\">\n",
        "  <thead>\n",
        "    <tr style=\"text-align: right;\">\n",
        "      <th></th>\n",
        "      <th>abbreviation</th>\n",
        "      <th>year</th>\n",
        "      <th>month</th>\n",
        "      <th>date</th>\n",
        "      <th>region</th>\n",
        "      <th>subregion</th>\n",
        "      <th>station</th>\n",
        "      <th>elevation</th>\n",
        "      <th>precip</th>\n",
        "      <th>avg precip</th>\n",
        "      <th>pct of avg</th>\n",
        "    </tr>\n",
        "  </thead>\n",
        "  <tbody>\n",
        "    <tr>\n",
        "      <th>0</th>\n",
        "      <td> GAS</td>\n",
        "      <td> 2011</td>\n",
        "      <td> Oct</td>\n",
        "      <td>2011-10-01</td>\n",
        "      <td> NORTH COAST</td>\n",
        "      <td> SMITH RIVER</td>\n",
        "      <td> Gasquet Ranger Station</td>\n",
        "      <td> 384</td>\n",
        "      <td>  8.40</td>\n",
        "      <td>  7.53</td>\n",
        "      <td> 112</td>\n",
        "    </tr>\n",
        "    <tr>\n",
        "      <th>1</th>\n",
        "      <td> GAS</td>\n",
        "      <td> 2011</td>\n",
        "      <td> Nov</td>\n",
        "      <td>2011-11-01</td>\n",
        "      <td> NORTH COAST</td>\n",
        "      <td> SMITH RIVER</td>\n",
        "      <td> Gasquet Ranger Station</td>\n",
        "      <td> 384</td>\n",
        "      <td> 12.42</td>\n",
        "      <td> 14.14</td>\n",
        "      <td>  88</td>\n",
        "    </tr>\n",
        "    <tr>\n",
        "      <th>2</th>\n",
        "      <td> GAS</td>\n",
        "      <td> 2011</td>\n",
        "      <td> Dec</td>\n",
        "      <td>2011-12-01</td>\n",
        "      <td> NORTH COAST</td>\n",
        "      <td> SMITH RIVER</td>\n",
        "      <td> Gasquet Ranger Station</td>\n",
        "      <td> 384</td>\n",
        "      <td> 25.00</td>\n",
        "      <td> 16.37</td>\n",
        "      <td> 153</td>\n",
        "    </tr>\n",
        "    <tr>\n",
        "      <th>3</th>\n",
        "      <td> GAS</td>\n",
        "      <td> 2011</td>\n",
        "      <td> Jan</td>\n",
        "      <td>2011-01-01</td>\n",
        "      <td> NORTH COAST</td>\n",
        "      <td> SMITH RIVER</td>\n",
        "      <td> Gasquet Ranger Station</td>\n",
        "      <td> 384</td>\n",
        "      <td>  4.91</td>\n",
        "      <td> 16.45</td>\n",
        "      <td>  30</td>\n",
        "    </tr>\n",
        "    <tr>\n",
        "      <th>4</th>\n",
        "      <td> GAS</td>\n",
        "      <td> 2011</td>\n",
        "      <td> Feb</td>\n",
        "      <td>2011-02-01</td>\n",
        "      <td> NORTH COAST</td>\n",
        "      <td> SMITH RIVER</td>\n",
        "      <td> Gasquet Ranger Station</td>\n",
        "      <td> 384</td>\n",
        "      <td>  9.53</td>\n",
        "      <td> 11.95</td>\n",
        "      <td>  80</td>\n",
        "    </tr>\n",
        "  </tbody>\n",
        "</table>\n",
        "</div>"
       ],
       "metadata": {},
       "output_type": "pyout",
       "prompt_number": 36,
       "text": [
        "  abbreviation  year month       date       region    subregion  \\\n",
        "0          GAS  2011   Oct 2011-10-01  NORTH COAST  SMITH RIVER   \n",
        "1          GAS  2011   Nov 2011-11-01  NORTH COAST  SMITH RIVER   \n",
        "2          GAS  2011   Dec 2011-12-01  NORTH COAST  SMITH RIVER   \n",
        "3          GAS  2011   Jan 2011-01-01  NORTH COAST  SMITH RIVER   \n",
        "4          GAS  2011   Feb 2011-02-01  NORTH COAST  SMITH RIVER   \n",
        "\n",
        "                  station  elevation  precip  avg precip  pct of avg  \n",
        "0  Gasquet Ranger Station        384    8.40        7.53         112  \n",
        "1  Gasquet Ranger Station        384   12.42       14.14          88  \n",
        "2  Gasquet Ranger Station        384   25.00       16.37         153  \n",
        "3  Gasquet Ranger Station        384    4.91       16.45          30  \n",
        "4  Gasquet Ranger Station        384    9.53       11.95          80  "
       ]
      }
     ],
     "prompt_number": 36
    },
    {
     "cell_type": "heading",
     "level": 2,
     "metadata": {},
     "source": [
      "Group By"
     ]
    },
    {
     "cell_type": "markdown",
     "metadata": {},
     "source": [
      "One of Pandas' most powerful features is \n",
      "[groupby](http://pandas.pydata.org/pandas-docs/stable/groupby.html).\n",
      "\"Group By\" separates table rows into groups based on some commonality\n",
      "and allows you to iterate over those groups or intelligently\n",
      "perform reductions on them.\n",
      "It's a fantastic way to slice-and-dice data to get high level understanding.\n",
      "With our precipitation data we may want to look at it by year:"
     ]
    },
    {
     "cell_type": "code",
     "collapsed": false,
     "input": [
      "monthly_obs.groupby(['year']).mean()"
     ],
     "language": "python",
     "metadata": {},
     "outputs": [
      {
       "html": [
        "<div style=\"max-height:1000px;max-width:1500px;overflow:auto;\">\n",
        "<table border=\"1\" class=\"dataframe\">\n",
        "  <thead>\n",
        "    <tr style=\"text-align: right;\">\n",
        "      <th></th>\n",
        "      <th>elevation</th>\n",
        "      <th>precip</th>\n",
        "      <th>avg precip</th>\n",
        "      <th>pct of avg</th>\n",
        "    </tr>\n",
        "    <tr>\n",
        "      <th>year</th>\n",
        "      <th></th>\n",
        "      <th></th>\n",
        "      <th></th>\n",
        "      <th></th>\n",
        "    </tr>\n",
        "  </thead>\n",
        "  <tbody>\n",
        "    <tr>\n",
        "      <th>2011</th>\n",
        "      <td> 2746.403409</td>\n",
        "      <td> 3.259749</td>\n",
        "      <td> 2.348556</td>\n",
        "      <td> 161.191063</td>\n",
        "    </tr>\n",
        "    <tr>\n",
        "      <th>2012</th>\n",
        "      <td> 2746.403409</td>\n",
        "      <td> 1.818086</td>\n",
        "      <td> 2.348556</td>\n",
        "      <td>  79.549051</td>\n",
        "    </tr>\n",
        "    <tr>\n",
        "      <th>2013</th>\n",
        "      <td> 2746.403409</td>\n",
        "      <td> 1.805370</td>\n",
        "      <td> 2.348556</td>\n",
        "      <td>  79.644730</td>\n",
        "    </tr>\n",
        "    <tr>\n",
        "      <th>2014</th>\n",
        "      <td> 2746.403409</td>\n",
        "      <td> 1.456295</td>\n",
        "      <td> 2.519365</td>\n",
        "      <td>  58.693638</td>\n",
        "    </tr>\n",
        "  </tbody>\n",
        "</table>\n",
        "</div>"
       ],
       "metadata": {},
       "output_type": "pyout",
       "prompt_number": 38,
       "text": [
        "        elevation    precip  avg precip  pct of avg\n",
        "year                                               \n",
        "2011  2746.403409  3.259749    2.348556  161.191063\n",
        "2012  2746.403409  1.818086    2.348556   79.549051\n",
        "2013  2746.403409  1.805370    2.348556   79.644730\n",
        "2014  2746.403409  1.456295    2.519365   58.693638"
       ]
      }
     ],
     "prompt_number": 38
    },
    {
     "cell_type": "markdown",
     "metadata": {},
     "source": [
      "Or by year and region:"
     ]
    },
    {
     "cell_type": "code",
     "collapsed": false,
     "input": [
      "monthly_obs.groupby(['year', 'region'])['pct of avg'].mean()"
     ],
     "language": "python",
     "metadata": {},
     "outputs": [
      {
       "metadata": {},
       "output_type": "pyout",
       "prompt_number": 51,
       "text": [
        "year  region           \n",
        "2011  CENTRAL COAST        177.456000\n",
        "      COLORADO RIVER       101.362319\n",
        "      NORTH COAST          126.065217\n",
        "      NORTH LAHONTAN       138.477612\n",
        "      SACRAMENTO RIVER     146.660131\n",
        "      SAN FRANCISCO BAY    190.696970\n",
        "      SAN JOAQUIN RIVER    208.258065\n",
        "      SOUTH COAST          153.238710\n",
        "      SOUTH LAHONTAN       123.261146\n",
        "      TULARE LAKE          193.730408\n",
        "2012  CENTRAL COAST         74.982143\n",
        "      COLORADO RIVER        86.153846\n",
        "      NORTH COAST           96.670330\n",
        "      NORTH LAHONTAN        63.569231\n",
        "      SACRAMENTO RIVER      77.905830\n",
        "      SAN FRANCISCO BAY     70.409091\n",
        "      SAN JOAQUIN RIVER     69.890566\n",
        "      SOUTH COAST          117.828947\n",
        "      SOUTH LAHONTAN        67.879747\n",
        "      TULARE LAKE           76.312500\n",
        "2013  CENTRAL COAST         47.000000\n",
        "      COLORADO RIVER        63.727273\n",
        "      NORTH COAST          109.677632\n",
        "      NORTH LAHONTAN        84.864000\n",
        "      SACRAMENTO RIVER      97.772523\n",
        "      SAN FRANCISCO BAY     98.444444\n",
        "      SAN JOAQUIN RIVER     58.025532\n",
        "      SOUTH COAST           73.176471\n",
        "      SOUTH LAHONTAN        68.322148\n",
        "      TULARE LAKE           71.631068\n",
        "2014  CENTRAL COAST         37.000000\n",
        "      COLORADO RIVER        64.771930\n",
        "      NORTH COAST           50.150000\n",
        "      NORTH LAHONTAN        78.877049\n",
        "      SACRAMENTO RIVER      59.259358\n",
        "      SAN FRANCISCO BAY     50.711864\n",
        "      SAN JOAQUIN RIVER     58.622807\n",
        "      SOUTH COAST           59.023438\n",
        "      SOUTH LAHONTAN        79.812950\n",
        "      TULARE LAKE           50.175439\n",
        "Name: pct of avg, dtype: float64"
       ]
      }
     ],
     "prompt_number": 51
    },
    {
     "cell_type": "markdown",
     "metadata": {},
     "source": [
      "Or by station and year:"
     ]
    },
    {
     "cell_type": "code",
     "collapsed": false,
     "input": [
      "monthly_obs.groupby(['station', 'year'])['pct of avg'].mean()"
     ],
     "language": "python",
     "metadata": {},
     "outputs": [
      {
       "metadata": {},
       "output_type": "pyout",
       "prompt_number": 39,
       "text": [
        "station                   year\n",
        "Adin RS                   2011    103.000000\n",
        "                          2012     54.416667\n",
        "                          2013     66.727273\n",
        "                          2014     58.818182\n",
        "Alturas RS                2011    101.916667\n",
        "                          2012     57.272727\n",
        "                          2013     80.300000\n",
        "                          2014     55.000000\n",
        "Angwin Pacific Union Col  2011    209.800000\n",
        "                          2012     61.454545\n",
        "                          2013    130.000000\n",
        "                          2014     40.500000\n",
        "Ash Mountain              2011    175.166667\n",
        "                          2012     55.000000\n",
        "                          2013     54.900000\n",
        "...\n",
        "West Point             2012     82.363636\n",
        "                       2013     78.000000\n",
        "                       2014     42.181818\n",
        "Woodland 1 Wnw         2011    242.000000\n",
        "                       2012     81.625000\n",
        "                       2013     95.500000\n",
        "                       2014     46.600000\n",
        "Yosemite Headquarters  2011    182.583333\n",
        "                       2012     60.833333\n",
        "                       2013     59.500000\n",
        "                       2014     54.272727\n",
        "Yreka                  2011    139.333333\n",
        "                       2012     74.250000\n",
        "                       2013     93.166667\n",
        "                       2014     55.181818\n",
        "Name: pct of avg, Length: 704, dtype: float64"
       ]
      }
     ],
     "prompt_number": 39
    },
    {
     "cell_type": "heading",
     "level": 2,
     "metadata": {},
     "source": [
      "Plotting"
     ]
    },
    {
     "cell_type": "markdown",
     "metadata": {},
     "source": [
      "For quick inspection Pandas as builtin plotting support using matplotlib."
     ]
    },
    {
     "cell_type": "code",
     "collapsed": false,
     "input": [
      "%matplotlib inline"
     ],
     "language": "python",
     "metadata": {},
     "outputs": [],
     "prompt_number": 40
    },
    {
     "cell_type": "code",
     "collapsed": false,
     "input": [
      "monthly_obs.groupby('date')['pct of avg'].mean().plot()"
     ],
     "language": "python",
     "metadata": {},
     "outputs": [
      {
       "metadata": {},
       "output_type": "pyout",
       "prompt_number": 48,
       "text": [
        "<matplotlib.axes._subplots.AxesSubplot at 0x1075fe9e8>"
       ]
      },
      {
       "metadata": {},
       "output_type": "display_data",
       "png": "[encoded data removed]",
       "text": [
        "<matplotlib.figure.Figure at 0x1076413c8>"
       ]
      }
     ],
     "prompt_number": 48
    },
    {
     "cell_type": "code",
     "collapsed": false,
     "input": [
      "ordered_months = ['Jan', 'Feb', 'Mar', 'Apr', 'May', 'Jun', \n",
      "                  'Jul', 'Aug', 'Sep', 'Oct', 'Nov', 'Dec']\n",
      "monthly_obs.groupby('month').precip.sum().loc[ordered_months].plot()"
     ],
     "language": "python",
     "metadata": {},
     "outputs": [
      {
       "metadata": {},
       "output_type": "pyout",
       "prompt_number": 49,
       "text": [
        "<matplotlib.axes._subplots.AxesSubplot at 0x108aa19b0>"
       ]
      },
      {
       "metadata": {},
       "output_type": "display_data",
       "png": "[encoded data removed]",
       "text": [
        "<matplotlib.figure.Figure at 0x108d11eb8>"
       ]
      }
     ],
     "prompt_number": 49
    },
    {
     "cell_type": "code",
     "collapsed": false,
     "input": [],
     "language": "python",
     "metadata": {},
     "outputs": []
    }
   ],
   "metadata": {}
  }
 ]
}