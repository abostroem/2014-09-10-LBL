{
 "metadata": {
  "name": "",
  "signature": "sha256:bf43860c9a469637afb8a146c77f67ffbb4e90ca145fc085630047861a591c70"
 },
 "nbformat": 3,
 "nbformat_minor": 0,
 "worksheets": [
  {
   "cells": [
    {
     "cell_type": "markdown",
     "metadata": {},
     "source": [
      "#This is an assortment of things I've commonly wanted to do"
     ]
    },
    {
     "cell_type": "markdown",
     "metadata": {},
     "source": [
      "###Let's get some data"
     ]
    },
    {
     "cell_type": "code",
     "collapsed": false,
     "input": [
      "import numpy as np\n",
      "import pandas as pd"
     ],
     "language": "python",
     "metadata": {},
     "outputs": [],
     "prompt_number": 98
    },
    {
     "cell_type": "code",
     "collapsed": false,
     "input": [
      "precip_table_data = pd.read_csv('pandas/precip_data.csv')"
     ],
     "language": "python",
     "metadata": {},
     "outputs": [],
     "prompt_number": 99
    },
    {
     "cell_type": "code",
     "collapsed": false,
     "input": [
      "def convert_date_to_fractional_year(month, year):\n",
      "    '''\n",
      "    Given a month and a year, convert to fractional year\n",
      "    Inputs:\n",
      "        month: str\n",
      "            3 letter month of year\n",
      "        year : int\n",
      "            4 digit year\n",
      "    '''\n",
      "    month_to_num = {'Jan':1, 'Feb':2, 'Mar':3, 'Apr':4,\n",
      "                    'May':5, 'Jun':6, 'Jul':7, 'Aug':8,\n",
      "                    'Sep':9, 'Oct':10, 'Nov':11, 'Dec':12}\n",
      "    frac_year = year + month_to_num[month]/12.\n",
      "    return frac_year"
     ],
     "language": "python",
     "metadata": {},
     "outputs": [],
     "prompt_number": 100
    },
    {
     "cell_type": "code",
     "collapsed": false,
     "input": [
      "#Use every 4th one since that represents total precipitations\n",
      "precip =  precip_table_data['value'][::4]\n",
      "location = precip_table_data['abbreviation'][::4]\n",
      "all_year = precip_table_data['year'][::4]\n",
      "all_month = precip_table_data['month'][::4]\n"
     ],
     "language": "python",
     "metadata": {},
     "outputs": [],
     "prompt_number": 101
    },
    {
     "cell_type": "code",
     "collapsed": false,
     "input": [
      "#Convert all dates to fractional year\n",
      "date = []\n",
      "for month, year in zip(all_month, all_year):\n",
      "    try:\n",
      "        date.append(convert_date_to_fractional_year(month, year))\n",
      "    except KeyError:\n",
      "        date.append(np.nan)\n",
      "\n",
      "date = np.array(date)"
     ],
     "language": "python",
     "metadata": {},
     "outputs": []
    },
    {
     "cell_type": "code",
     "collapsed": false,
     "input": [
      "%pylab inline\n",
      "#Be careful with importing pylab. It imports a lot of packages into your namespace"
     ],
     "language": "python",
     "metadata": {},
     "outputs": [
      {
       "output_type": "stream",
       "stream": "stdout",
       "text": [
        "Populating the interactive namespace from numpy and matplotlib\n"
       ]
      }
     ],
     "prompt_number": 102
    },
    {
     "cell_type": "code",
     "collapsed": false,
     "input": [
      "from matplotlib import pyplot\n",
      "pyplot.plot(date[np.where(location == 'GAS')], precip[np.where(location == 'GAS')], 'o')"
     ],
     "language": "python",
     "metadata": {},
     "outputs": [
      {
       "metadata": {},
       "output_type": "pyout",
       "prompt_number": 103,
       "text": [
        "[<matplotlib.lines.Line2D at 0x1144b3890>]"
       ]
      },
      {
       "metadata": {},
       "output_type": "display_data",
       "png": "[encoded data removed]",
       "text": [
        "<matplotlib.figure.Figure at 0x1102039d0>"
       ]
      }
     ],
     "prompt_number": 103
    },
    {
     "cell_type": "code",
     "collapsed": false,
     "input": [
      "fig = pyplot.figure()\n",
      "ax = fig.add_subplot(1,1,1)\n",
      "ax.plot(date[np.where(location == 'GAS')], precip[np.where(location == 'GAS')], 'o')\n",
      "ax.set_xlabel('Date')\n",
      "ax.set_ylabel('Precipitation')\n",
      "ax.set_title('Precipication at Gasquest Ranger Station in 2011')\n",
      "ax.set_ylim(-25, 300)"
     ],
     "language": "python",
     "metadata": {},
     "outputs": [
      {
       "metadata": {},
       "output_type": "pyout",
       "prompt_number": 104,
       "text": [
        "(-25, 300)"
       ]
      },
      {
       "metadata": {},
       "output_type": "display_data",
       "png": "[encoded data removed]",
       "text": [
        "<matplotlib.figure.Figure at 0x113a1fa10>"
       ]
      }
     ],
     "prompt_number": 104
    },
    {
     "cell_type": "markdown",
     "metadata": {},
     "source": [
      "##Make X Axis Pretty\n",
      "\n",
      "This is from Justin Ely's package <a href = \"https://github.com/justincely/astroraf\">astroraf</a>"
     ]
    },
    {
     "cell_type": "code",
     "collapsed": false,
     "input": [
      "def format_axis(precision='%.1f',ticksize=1,axis=None,which='both'):\n",
      "    \"\"\"\n",
      "    from matplotlib.ticker import *\n",
      "    formats axis label precision\n",
      "\n",
      "    \"\"\"\n",
      "\n",
      "    import matplotlib.pyplot as plt\n",
      "    from matplotlib.ticker import FormatStrFormatter\n",
      "\n",
      "    if not axis:\n",
      "        axis = plt.gca()\n",
      "\n",
      "    if which in ('x','X','both'): axis.xaxis.set_major_formatter(FormatStrFormatter(precision))\n",
      "    if which in ('y','Y','both'): axis.yaxis.set_major_formatter(FormatStrFormatter(precision))"
     ],
     "language": "python",
     "metadata": {},
     "outputs": [],
     "prompt_number": 105
    },
    {
     "cell_type": "code",
     "collapsed": false,
     "input": [
      "fig = pyplot.figure()\n",
      "ax = fig.add_subplot(1,1,1)\n",
      "ax.plot(date[np.where(location == 'GAS')], precip[np.where(location == 'GAS')], 'o')\n",
      "ax.set_xlabel('Date')\n",
      "ax.set_ylabel('Precipitation')\n",
      "ax.set_title('Precipication at Gasquest Ranger Station in 2011')\n",
      "format_axis(which = 'x', axis = ax)\n",
      "ax.set_ylim(-25, 300)"
     ],
     "language": "python",
     "metadata": {},
     "outputs": [
      {
       "metadata": {},
       "output_type": "pyout",
       "prompt_number": 106,
       "text": [
        "(-25, 300)"
       ]
      },
      {
       "metadata": {},
       "output_type": "display_data",
       "png": "[encoded data removed]",
       "text": [
        "<matplotlib.figure.Figure at 0x11442d4d0>"
       ]
      }
     ],
     "prompt_number": 106
    },
    {
     "cell_type": "markdown",
     "metadata": {},
     "source": [
      "##Changing tick locations"
     ]
    },
    {
     "cell_type": "code",
     "collapsed": false,
     "input": [
      "fig = pyplot.figure()\n",
      "ax = fig.add_subplot(1,1,1)\n",
      "ax.plot(date[np.where(location == 'GAS')], precip[np.where(location == 'GAS')], 'o')\n",
      "ax.set_xlabel('Date')\n",
      "ax.set_ylabel('Precipitation')\n",
      "ax.set_title('Precipication at Gasquet Ranger Station in 2011')\n",
      "format_axis(which = 'x', axis = ax)\n",
      "new_xticks = np.arange(2011.0, 2016.0)\n",
      "ax.set_xticks(new_xticks)\n",
      "ax.set_ylim(-25, 300)"
     ],
     "language": "python",
     "metadata": {},
     "outputs": [
      {
       "metadata": {},
       "output_type": "pyout",
       "prompt_number": 107,
       "text": [
        "(-25, 300)"
       ]
      },
      {
       "metadata": {},
       "output_type": "display_data",
       "png": "[encoded data removed]",
       "text": [
        "<matplotlib.figure.Figure at 0x113c9fb10>"
       ]
      }
     ],
     "prompt_number": 107
    },
    {
     "cell_type": "markdown",
     "metadata": {},
     "source": [
      "##Changing tick labels"
     ]
    },
    {
     "cell_type": "code",
     "collapsed": false,
     "input": [
      "fig = pyplot.figure()\n",
      "ax = fig.add_subplot(1,1,1)\n",
      "ax.plot(date[np.where(location == 'GAS')], precip[np.where(location == 'GAS')], 'o')\n",
      "ax.set_xlabel('Date')\n",
      "ax.set_ylabel('Precipitation')\n",
      "ax.set_title('Precipication at Gasquet Ranger Station in 2011')\n",
      "format_axis(which = 'x', axis = ax)\n",
      "new_xticks = np.arange(2011.0, 2016.0)\n",
      "ax.set_xticks(new_xticks)\n",
      "new_tick_labels = ['Jan 11', 'Jan 12', 'Jan 13', 'Jan 14', 'Jan 15']\n",
      "ax.set_xticklabels(new_tick_labels)\n",
      "ax.set_ylim(-25, 300)"
     ],
     "language": "python",
     "metadata": {},
     "outputs": [
      {
       "metadata": {},
       "output_type": "pyout",
       "prompt_number": 108,
       "text": [
        "(-25, 300)"
       ]
      },
      {
       "metadata": {},
       "output_type": "display_data",
       "png": "[encoded data removed]",
       "text": [
        "<matplotlib.figure.Figure at 0x114266990>"
       ]
      }
     ],
     "prompt_number": 108
    },
    {
     "cell_type": "markdown",
     "metadata": {},
     "source": [
      "##Multipage PDF"
     ]
    },
    {
     "cell_type": "code",
     "collapsed": false,
     "input": [
      "from matplotlib.backends.backend_pdf import PdfPages\n",
      "pp = PdfPages('multipage.pdf')\n",
      "fig = pyplot.figure()\n",
      "ax = fig.add_subplot(1,1,1)\n",
      "ax.plot(date[np.where(location == 'GAS')], precip[np.where(location == 'GAS')], 'o')\n",
      "ax.set_xlabel('Date')\n",
      "ax.set_ylabel('Precipitation')\n",
      "ax.set_title('Precipication at Gasquet Ranger Station in 2011')\n",
      "format_axis(which = 'x', axis = ax)\n",
      "ax.set_ylim(-25, 300)\n",
      "pp.savefig()\n",
      "pyplot.close()\n",
      "fig = pyplot.figure()\n",
      "ax = fig.add_subplot(1,1,1)\n",
      "ax.plot(date[np.where(location == 'IMP')], precip[np.where(location == 'IMP')], 'o')\n",
      "ax.set_xlabel('Date')\n",
      "ax.set_ylabel('Precipitation')\n",
      "ax.set_title('Precipication at Imperial Valley in 2011')\n",
      "format_axis(which = 'x', axis = ax)\n",
      "ax.set_ylim(-25, 300)\n",
      "pp.savefig()\n",
      "pyplot.close()\n",
      "pp.close()"
     ],
     "language": "python",
     "metadata": {},
     "outputs": [],
     "prompt_number": 109
    },
    {
     "cell_type": "markdown",
     "metadata": {},
     "source": [
      "##Adjust Subplot sizes and locations"
     ]
    },
    {
     "cell_type": "code",
     "collapsed": false,
     "input": [
      "fig = pyplot.figure()\n",
      "ax1 = fig.add_subplot(2,1,1) \n",
      "ax1.plot(date[np.where(location == 'GAS')], precip[np.where(location == 'GAS')], 'o')\n",
      "format_axis(which = 'x', axis = ax1)\n",
      "ax1.set_ylim(-25, 300)\n",
      "ax1.set_position([0, 0, 0.2, 0.7]) #[left, bottom, width, height]\n",
      "\n",
      "ax2 = fig.add_subplot(2, 1, 2)\n",
      "ax2.plot(date[np.where(location == 'IMP')], precip[np.where(location == 'IMP')], 'o')\n",
      "format_axis(which = 'x', axis = ax2)\n",
      "ax2.set_ylim(-25, 300)\n",
      "ax2.set_position([0.3, 0, 0.65, 0.7])"
     ],
     "language": "python",
     "metadata": {},
     "outputs": [
      {
       "metadata": {},
       "output_type": "display_data",
       "png": "[encoded data removed]",
       "text": [
        "<matplotlib.figure.Figure at 0x1139ff850>"
       ]
      }
     ],
     "prompt_number": 110
    },
    {
     "cell_type": "code",
     "collapsed": false,
     "input": [],
     "language": "python",
     "metadata": {},
     "outputs": []
    }
   ],
   "metadata": {}
  }
 ]
}