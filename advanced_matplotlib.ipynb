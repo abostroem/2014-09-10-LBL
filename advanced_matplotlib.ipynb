{
 "metadata": {
  "name": "",
  "signature": "sha256:e88d3d823f90ed42d37775ed65be5b538476cbe2cc0bf9bbd3534e34b7509f24"
 },
 "nbformat": 3,
 "nbformat_minor": 0,
 "worksheets": [
  {
   "cells": [
    {
     "cell_type": "markdown",
     "metadata": {},
     "source": [
      "#This is an assortment of things I've commonly wanted to do"
     ]
    },
    {
     "cell_type": "markdown",
     "metadata": {},
     "source": [
      "###Let's get some data"
     ]
    },
    {
     "cell_type": "code",
     "collapsed": false,
     "input": [
      "import numpy as np\n",
      "import pandas as pd"
     ],
     "language": "python",
     "metadata": {},
     "outputs": [],
     "prompt_number": 57
    },
    {
     "cell_type": "code",
     "collapsed": false,
     "input": [
      "precip_table_data = pd.read_csv('pandas/precip_data.csv')"
     ],
     "language": "python",
     "metadata": {},
     "outputs": [],
     "prompt_number": 58
    },
    {
     "cell_type": "markdown",
     "metadata": {},
     "source": [
      "####Read in using Pandas read_csv file"
     ]
    },
    {
     "cell_type": "code",
     "collapsed": false,
     "input": [
      "from datetime import datetime\n",
      "def convert_date_to_fractional_year(month, year):    \n",
      "    '''\n",
      "    Given a month and a year, convert to fractional year\n",
      "    Inputs:\n",
      "        month: str\n",
      "            3 letter month of year\n",
      "        year : int\n",
      "            4 digit year\n",
      "    '''\n",
      "    date = datetime.strptime('{} {}'.format(month, year), '%b %Y')\n",
      "    fractional_year = float(date.year) + float(date.month)/12.0\n",
      "    return fractional_year\n"
     ],
     "language": "python",
     "metadata": {},
     "outputs": [],
     "prompt_number": 59
    },
    {
     "cell_type": "code",
     "collapsed": false,
     "input": [
      "# filter to only monthly data\n",
      "#~ means invert the condition\n",
      "precip_data = precip_table_data.loc[~precip_table_data.month.isin(['Oct-Sep', 'Oct-Aug', 'Wat-Yr'])]"
     ],
     "language": "python",
     "metadata": {},
     "outputs": [],
     "prompt_number": 60
    },
    {
     "cell_type": "code",
     "collapsed": false,
     "input": [
      "#Convert all dates to fractional year\n",
      "date = []\n",
      "for month, year in zip(all_month, all_year):\n",
      "    date.append(convert_date_to_fractional_year(month, year))\n",
      "\n",
      "precip_data['date'] = date"
     ],
     "language": "python",
     "metadata": {},
     "outputs": [],
     "prompt_number": 61
    },
    {
     "cell_type": "markdown",
     "metadata": {},
     "source": [
      "##Now we can plot"
     ]
    },
    {
     "cell_type": "code",
     "collapsed": false,
     "input": [
      "#Set plotting backend and put plots in the notebook\n",
      "%matplotlib inline"
     ],
     "language": "python",
     "metadata": {},
     "outputs": [],
     "prompt_number": 43
    },
    {
     "cell_type": "code",
     "collapsed": false,
     "input": [
      "from matplotlib import pyplot"
     ],
     "language": "python",
     "metadata": {},
     "outputs": [],
     "prompt_number": 44
    },
    {
     "cell_type": "markdown",
     "metadata": {},
     "source": [
      "###Most basic plot of monthly precipitation from Gasquet Station"
     ]
    },
    {
     "cell_type": "code",
     "collapsed": false,
     "input": [
      "whr = precip_data.abbreviation == 'GAS'\n",
      "pyplot.plot(precip_data.date[whr], precip_data.precip[whr], 'o')"
     ],
     "language": "python",
     "metadata": {},
     "outputs": [
      {
       "metadata": {},
       "output_type": "pyout",
       "prompt_number": 45,
       "text": [
        "[<matplotlib.lines.Line2D at 0x108c1a190>]"
       ]
      },
      {
       "metadata": {},
       "output_type": "display_data",
       "png": "[encoded data removed]",
       "text": [
        "<matplotlib.figure.Figure at 0x1089aa550>"
       ]
      }
     ],
     "prompt_number": 45
    },
    {
     "cell_type": "markdown",
     "metadata": {},
     "source": [
      "###Plot with figure and subplot objects, axis labels, title, set ylimits"
     ]
    },
    {
     "cell_type": "code",
     "collapsed": false,
     "input": [
      "fig = pyplot.figure()\n",
      "ax = fig.add_subplot(1,1,1)\n",
      "pyplot.plot(precip_data.date[whr], precip_data.precip[whr], 'o')\n",
      "ax.set_xlabel('Date')\n",
      "ax.set_ylabel('Precipitation')\n",
      "ax.set_title('Precipication at Gasquest Ranger Station')\n",
      "ax.set_ylim(-5, 30)"
     ],
     "language": "python",
     "metadata": {},
     "outputs": [
      {
       "metadata": {},
       "output_type": "pyout",
       "prompt_number": 48,
       "text": [
        "(-5, 30)"
       ]
      },
      {
       "metadata": {},
       "output_type": "display_data",
       "png": "[encoded data removed]",
       "text": [
        "<matplotlib.figure.Figure at 0x108c31d90>"
       ]
      }
     ],
     "prompt_number": 48
    },
    {
     "cell_type": "markdown",
     "metadata": {},
     "source": [
      "##Make X Axis Pretty\n",
      "\n",
      "This is from Justin Ely's package <a href = \"https://github.com/justincely/astroraf\">astroraf</a>"
     ]
    },
    {
     "cell_type": "code",
     "collapsed": false,
     "input": [
      "def format_axis(precision='%.1f',ticksize=1,axis=None,which='both'):\n",
      "    \"\"\"\n",
      "    from matplotlib.ticker import *\n",
      "    formats axis label precision\n",
      "\n",
      "    \"\"\"\n",
      "\n",
      "    import matplotlib.pyplot as plt\n",
      "    from matplotlib.ticker import FormatStrFormatter\n",
      "\n",
      "    if not axis:\n",
      "        axis = plt.gca()\n",
      "\n",
      "    if which in ('x','X','both'): axis.xaxis.set_major_formatter(FormatStrFormatter(precision))\n",
      "    if which in ('y','Y','both'): axis.yaxis.set_major_formatter(FormatStrFormatter(precision))"
     ],
     "language": "python",
     "metadata": {},
     "outputs": [],
     "prompt_number": 49
    },
    {
     "cell_type": "code",
     "collapsed": false,
     "input": [
      "fig = pyplot.figure()\n",
      "ax = fig.add_subplot(1,1,1)\n",
      "ax.plot(precip_data.date[whr], precip_data.precip[whr], 'o')\n",
      "ax.set_xlabel('Date')\n",
      "ax.set_ylabel('Precipitation')\n",
      "ax.set_title('Precipication at Gasquest Ranger Station')\n",
      "#---------\n",
      "format_axis(which = 'x', axis = ax)\n",
      "#---------\n",
      "ax.set_ylim(-5, 30)"
     ],
     "language": "python",
     "metadata": {},
     "outputs": [
      {
       "metadata": {},
       "output_type": "pyout",
       "prompt_number": 50,
       "text": [
        "(-5, 30)"
       ]
      },
      {
       "metadata": {},
       "output_type": "display_data",
       "png": "[encoded data removed]",
       "text": [
        "<matplotlib.figure.Figure at 0x107320410>"
       ]
      }
     ],
     "prompt_number": 50
    },
    {
     "cell_type": "markdown",
     "metadata": {},
     "source": [
      "##Changing tick locations"
     ]
    },
    {
     "cell_type": "code",
     "collapsed": false,
     "input": [
      "fig = pyplot.figure()\n",
      "ax = fig.add_subplot(1,1,1)\n",
      "ax.plot(precip_data.date[whr], precip_data.precip[whr], 'o')\n",
      "ax.set_xlabel('Date')\n",
      "ax.set_ylabel('Precipitation')\n",
      "ax.set_title('Precipication at Gasquet Ranger Station')\n",
      "format_axis(which = 'x', axis = ax)\n",
      "#---------\n",
      "new_xticks = np.arange(2011.0, 2016.0)\n",
      "ax.set_xticks(new_xticks)\n",
      "#---------\n",
      "ax.set_ylim(-5, 30)"
     ],
     "language": "python",
     "metadata": {},
     "outputs": [
      {
       "metadata": {},
       "output_type": "pyout",
       "prompt_number": 51,
       "text": [
        "(-5, 30)"
       ]
      },
      {
       "metadata": {},
       "output_type": "display_data",
       "png": "[encoded data removed]",
       "text": [
        "<matplotlib.figure.Figure at 0x10810c990>"
       ]
      }
     ],
     "prompt_number": 51
    },
    {
     "cell_type": "markdown",
     "metadata": {},
     "source": [
      "##Changing tick labels"
     ]
    },
    {
     "cell_type": "code",
     "collapsed": false,
     "input": [
      "fig = pyplot.figure()\n",
      "ax = fig.add_subplot(1,1,1)\n",
      "ax.plot(precip_data.date[whr], precip_data.precip[whr], 'o')\n",
      "ax.set_xlabel('Date')\n",
      "ax.set_ylabel('Precipitation')\n",
      "ax.set_title('Precipication at Gasquet Ranger Station')\n",
      "format_axis(which = 'x', axis = ax)\n",
      "new_xticks = np.arange(2011.0, 2016.0)\n",
      "ax.set_xticks(new_xticks)\n",
      "#---------\n",
      "new_tick_labels = ['Jan 11', 'Jan 12', 'Jan 13', 'Jan 14', 'Jan 15']\n",
      "ax.set_xticklabels(new_tick_labels)\n",
      "#---------\n",
      "ax.set_ylim(-5, 30)"
     ],
     "language": "python",
     "metadata": {},
     "outputs": [
      {
       "metadata": {},
       "output_type": "pyout",
       "prompt_number": 53,
       "text": [
        "(-5, 30)"
       ]
      },
      {
       "metadata": {},
       "output_type": "display_data",
       "png": "[encoded data removed]",
       "text": [
        "<matplotlib.figure.Figure at 0x108416a10>"
       ]
      }
     ],
     "prompt_number": 53
    },
    {
     "cell_type": "markdown",
     "metadata": {},
     "source": [
      "##Multipage PDF"
     ]
    },
    {
     "cell_type": "code",
     "collapsed": false,
     "input": [
      "#---------\n",
      "from matplotlib.backends.backend_pdf import PdfPages\n",
      "pp = PdfPages('multipage.pdf')\n",
      "#---------\n",
      "fig = pyplot.figure()\n",
      "ax = fig.add_subplot(1,1,1)\n",
      "ax.plot(precip_data.date[whr], precip_data.precip[whr], 'o')\n",
      "ax.set_xlabel('Date')\n",
      "ax.set_ylabel('Precipitation')\n",
      "ax.set_title('Precipication at Gasquet Ranger Station')\n",
      "format_axis(which = 'x', axis = ax)\n",
      "ax.set_ylim(-5, 30)\n",
      "#---------\n",
      "pp.savefig()\n",
      "pyplot.close()\n",
      "#---------\n",
      "\n",
      "fig = pyplot.figure()\n",
      "ax = fig.add_subplot(1,1,1)\n",
      "whr = precip_data.abbreviation == 'IMP'\n",
      "ax.plot(precip_data.date[whr], precip_data.precip[whr], 'o')\n",
      "ax.set_xlabel('Date')\n",
      "ax.set_ylabel('Precipitation')\n",
      "ax.set_title('Precipication at Imperial Valley')\n",
      "format_axis(which = 'x', axis = ax)\n",
      "ax.set_ylim(-5, 30)\n",
      "#---------\n",
      "pp.savefig()\n",
      "pyplot.close()\n",
      "pp.close()\n",
      "#---------"
     ],
     "language": "python",
     "metadata": {},
     "outputs": [],
     "prompt_number": 22
    },
    {
     "cell_type": "markdown",
     "metadata": {},
     "source": [
      "##Adjust Subplot sizes and locations"
     ]
    },
    {
     "cell_type": "code",
     "collapsed": false,
     "input": [
      "fig = pyplot.figure()\n",
      "#---------\n",
      "ax1 = fig.add_subplot(2,1,1) \n",
      "#---------\n",
      "whr = precip_data.abbreviation == 'GAS'\n",
      "ax1.plot(precip_data.date[whr], precip_data.precip[whr], 'o')\n",
      "format_axis(which = 'x', axis = ax1)\n",
      "ax1.set_ylim(-5, 30)\n",
      "#---------\n",
      "ax1.set_position([0, 0, 0.2, 0.7]) #[left, bottom, width, height]\n",
      "#---------\n",
      "\n",
      "#---------\n",
      "ax2 = fig.add_subplot(2, 1, 2)\n",
      "#---------\n",
      "whr = precip_data.abbreviation == 'IMP'\n",
      "ax2.plot(precip_data.date[whr], precip_data.precip[whr], 'o')\n",
      "format_axis(which = 'x', axis = ax2)\n",
      "ax2.set_ylim(-5, 30)\n",
      "#---------\n",
      "ax2.set_position([0.3, 0, 0.65, 0.7])\n",
      "#---------"
     ],
     "language": "python",
     "metadata": {},
     "outputs": [
      {
       "metadata": {},
       "output_type": "display_data",
       "png": "[encoded data removed]",
       "text": [
        "<matplotlib.figure.Figure at 0x1089c5a50>"
       ]
      }
     ],
     "prompt_number": 64
    },
    {
     "cell_type": "code",
     "collapsed": false,
     "input": [],
     "language": "python",
     "metadata": {},
     "outputs": []
    }
   ],
   "metadata": {}
  }
 ]
}